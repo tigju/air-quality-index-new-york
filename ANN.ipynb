{
 "cells": [
  {
   "cell_type": "markdown",
   "metadata": {},
   "source": [
    "# Artificial Neural Network"
   ]
  },
  {
   "cell_type": "code",
   "execution_count": 2,
   "metadata": {},
   "outputs": [],
   "source": [
    "import pandas as pd\n",
    "import numpy as np\n",
    "import matplotlib.pyplot as plt\n",
    "import seaborn as sns"
   ]
  },
  {
   "cell_type": "code",
   "execution_count": 3,
   "metadata": {},
   "outputs": [
    {
     "data": {
      "text/html": [
       "<div>\n",
       "<style scoped>\n",
       "    .dataframe tbody tr th:only-of-type {\n",
       "        vertical-align: middle;\n",
       "    }\n",
       "\n",
       "    .dataframe tbody tr th {\n",
       "        vertical-align: top;\n",
       "    }\n",
       "\n",
       "    .dataframe thead th {\n",
       "        text-align: right;\n",
       "    }\n",
       "</style>\n",
       "<table border=\"1\" class=\"dataframe\">\n",
       "  <thead>\n",
       "    <tr style=\"text-align: right;\">\n",
       "      <th></th>\n",
       "      <th>AvgTemp</th>\n",
       "      <th>MaxTemp</th>\n",
       "      <th>MinTemp</th>\n",
       "      <th>SeaLevelPressure</th>\n",
       "      <th>AvgHumidity</th>\n",
       "      <th>TotalRainfallSnowmelt</th>\n",
       "      <th>AvgVisibility</th>\n",
       "      <th>AvgWindSpeed</th>\n",
       "      <th>MaxWindSpeed</th>\n",
       "      <th>RainDrizzle</th>\n",
       "      <th>Snow</th>\n",
       "      <th>ThunderStorm</th>\n",
       "      <th>Fog</th>\n",
       "      <th>PM 2.5</th>\n",
       "    </tr>\n",
       "  </thead>\n",
       "  <tbody>\n",
       "    <tr>\n",
       "      <th>0</th>\n",
       "      <td>4.3</td>\n",
       "      <td>10.0</td>\n",
       "      <td>1.7</td>\n",
       "      <td>1023.1</td>\n",
       "      <td>94.0</td>\n",
       "      <td>0.00</td>\n",
       "      <td>8.0</td>\n",
       "      <td>13.0</td>\n",
       "      <td>22.2</td>\n",
       "      <td>0.0</td>\n",
       "      <td>0.0</td>\n",
       "      <td>0.0</td>\n",
       "      <td>0.0</td>\n",
       "      <td>40.080000</td>\n",
       "    </tr>\n",
       "    <tr>\n",
       "      <th>1</th>\n",
       "      <td>8.8</td>\n",
       "      <td>14.4</td>\n",
       "      <td>1.7</td>\n",
       "      <td>1021.4</td>\n",
       "      <td>89.0</td>\n",
       "      <td>0.00</td>\n",
       "      <td>10.3</td>\n",
       "      <td>8.9</td>\n",
       "      <td>20.6</td>\n",
       "      <td>0.0</td>\n",
       "      <td>0.0</td>\n",
       "      <td>0.0</td>\n",
       "      <td>0.0</td>\n",
       "      <td>42.400000</td>\n",
       "    </tr>\n",
       "    <tr>\n",
       "      <th>2</th>\n",
       "      <td>14.3</td>\n",
       "      <td>17.2</td>\n",
       "      <td>5.0</td>\n",
       "      <td>1016.6</td>\n",
       "      <td>84.0</td>\n",
       "      <td>0.76</td>\n",
       "      <td>12.4</td>\n",
       "      <td>15.2</td>\n",
       "      <td>24.1</td>\n",
       "      <td>0.0</td>\n",
       "      <td>0.0</td>\n",
       "      <td>0.0</td>\n",
       "      <td>0.0</td>\n",
       "      <td>31.250000</td>\n",
       "    </tr>\n",
       "    <tr>\n",
       "      <th>3</th>\n",
       "      <td>5.8</td>\n",
       "      <td>9.4</td>\n",
       "      <td>-2.2</td>\n",
       "      <td>1023.8</td>\n",
       "      <td>70.0</td>\n",
       "      <td>0.00</td>\n",
       "      <td>15.6</td>\n",
       "      <td>17.0</td>\n",
       "      <td>38.9</td>\n",
       "      <td>0.0</td>\n",
       "      <td>0.0</td>\n",
       "      <td>0.0</td>\n",
       "      <td>0.0</td>\n",
       "      <td>20.227273</td>\n",
       "    </tr>\n",
       "    <tr>\n",
       "      <th>4</th>\n",
       "      <td>2.1</td>\n",
       "      <td>4.0</td>\n",
       "      <td>-1.0</td>\n",
       "      <td>1025.9</td>\n",
       "      <td>49.0</td>\n",
       "      <td>0.00</td>\n",
       "      <td>16.1</td>\n",
       "      <td>20.9</td>\n",
       "      <td>29.4</td>\n",
       "      <td>0.0</td>\n",
       "      <td>0.0</td>\n",
       "      <td>0.0</td>\n",
       "      <td>0.0</td>\n",
       "      <td>17.100000</td>\n",
       "    </tr>\n",
       "  </tbody>\n",
       "</table>\n",
       "</div>"
      ],
      "text/plain": [
       "   AvgTemp  MaxTemp  MinTemp  SeaLevelPressure  AvgHumidity  \\\n",
       "0      4.3     10.0      1.7            1023.1         94.0   \n",
       "1      8.8     14.4      1.7            1021.4         89.0   \n",
       "2     14.3     17.2      5.0            1016.6         84.0   \n",
       "3      5.8      9.4     -2.2            1023.8         70.0   \n",
       "4      2.1      4.0     -1.0            1025.9         49.0   \n",
       "\n",
       "   TotalRainfallSnowmelt  AvgVisibility  AvgWindSpeed  MaxWindSpeed  \\\n",
       "0                   0.00            8.0          13.0          22.2   \n",
       "1                   0.00           10.3           8.9          20.6   \n",
       "2                   0.76           12.4          15.2          24.1   \n",
       "3                   0.00           15.6          17.0          38.9   \n",
       "4                   0.00           16.1          20.9          29.4   \n",
       "\n",
       "   RainDrizzle  Snow  ThunderStorm  Fog     PM 2.5  \n",
       "0          0.0   0.0           0.0  0.0  40.080000  \n",
       "1          0.0   0.0           0.0  0.0  42.400000  \n",
       "2          0.0   0.0           0.0  0.0  31.250000  \n",
       "3          0.0   0.0           0.0  0.0  20.227273  \n",
       "4          0.0   0.0           0.0  0.0  17.100000  "
      ]
     },
     "execution_count": 3,
     "metadata": {},
     "output_type": "execute_result"
    }
   ],
   "source": [
    "df = pd.read_csv(\"data/combined_data/combined_data.csv\")\n",
    "df.head()"
   ]
  },
  {
   "cell_type": "code",
   "execution_count": 4,
   "metadata": {},
   "outputs": [],
   "source": [
    "# split into dependent and independent features\n",
    "X = df.iloc[:,:-1] # independent features\n",
    "y = df.iloc[:,-1]  # dependent feature"
   ]
  },
  {
   "cell_type": "markdown",
   "metadata": {},
   "source": [
    "#### Train test split"
   ]
  },
  {
   "cell_type": "code",
   "execution_count": 5,
   "metadata": {},
   "outputs": [],
   "source": [
    "from sklearn.model_selection import train_test_split\n",
    "X_train, X_test, y_train, y_test = train_test_split(X,y, test_size=0.3, random_state=0)"
   ]
  },
  {
   "cell_type": "code",
   "execution_count": 12,
   "metadata": {},
   "outputs": [],
   "source": [
    "from tensorflow.keras.models import Sequential\n",
    "from tensorflow.keras.layers import Dense\n",
    "from tensorflow.keras.layers import LeakyReLU, PReLU, ELU\n",
    "from tensorflow.keras.layers import Dropout"
   ]
  },
  {
   "cell_type": "code",
   "execution_count": 13,
   "metadata": {},
   "outputs": [
    {
     "name": "stdout",
     "output_type": "stream",
     "text": [
      "Model: \"sequential\"\n",
      "_________________________________________________________________\n",
      "Layer (type)                 Output Shape              Param #   \n",
      "=================================================================\n",
      "dense (Dense)                (None, 128)               1792      \n",
      "_________________________________________________________________\n",
      "dense_1 (Dense)              (None, 256)               33024     \n",
      "_________________________________________________________________\n",
      "dense_2 (Dense)              (None, 256)               65792     \n",
      "_________________________________________________________________\n",
      "dense_3 (Dense)              (None, 256)               65792     \n",
      "_________________________________________________________________\n",
      "dense_4 (Dense)              (None, 1)                 257       \n",
      "=================================================================\n",
      "Total params: 166,657\n",
      "Trainable params: 166,657\n",
      "Non-trainable params: 0\n",
      "_________________________________________________________________\n",
      "WARNING:tensorflow:The `nb_epoch` argument in `fit` has been renamed `epochs`.\n",
      "Train on 1816 samples, validate on 895 samples\n",
      "Epoch 1/100\n",
      "1816/1816 [==============================] - 2s 924us/sample - loss: 5.2438 - mean_absolute_error: 5.2438 - val_loss: 5.6196 - val_mean_absolute_error: 5.6196\n",
      "Epoch 2/100\n",
      "1816/1816 [==============================] - 1s 365us/sample - loss: 5.1478 - mean_absolute_error: 5.1478 - val_loss: 5.0277 - val_mean_absolute_error: 5.0277\n",
      "Epoch 3/100\n",
      "1816/1816 [==============================] - 1s 343us/sample - loss: 5.0624 - mean_absolute_error: 5.0624 - val_loss: 4.9741 - val_mean_absolute_error: 4.9741\n",
      "Epoch 4/100\n",
      "1816/1816 [==============================] - 1s 333us/sample - loss: 4.9975 - mean_absolute_error: 4.9975 - val_loss: 4.9905 - val_mean_absolute_error: 4.9905\n",
      "Epoch 5/100\n",
      "1816/1816 [==============================] - 1s 353us/sample - loss: 4.9312 - mean_absolute_error: 4.9312 - val_loss: 4.8730 - val_mean_absolute_error: 4.8730\n",
      "Epoch 6/100\n",
      "1816/1816 [==============================] - 1s 351us/sample - loss: 4.8878 - mean_absolute_error: 4.8878 - val_loss: 4.8495 - val_mean_absolute_error: 4.8495\n",
      "Epoch 7/100\n",
      "1816/1816 [==============================] - 1s 363us/sample - loss: 4.8803 - mean_absolute_error: 4.8803 - val_loss: 4.9655 - val_mean_absolute_error: 4.9655\n",
      "Epoch 8/100\n",
      "1816/1816 [==============================] - 1s 370us/sample - loss: 4.8596 - mean_absolute_error: 4.8596 - val_loss: 4.8440 - val_mean_absolute_error: 4.8440\n",
      "Epoch 9/100\n",
      "1816/1816 [==============================] - 1s 383us/sample - loss: 4.8237 - mean_absolute_error: 4.8237 - val_loss: 4.7599 - val_mean_absolute_error: 4.7600\n",
      "Epoch 10/100\n",
      "1816/1816 [==============================] - 1s 391us/sample - loss: 4.8439 - mean_absolute_error: 4.8439 - val_loss: 5.3527 - val_mean_absolute_error: 5.3527\n",
      "Epoch 11/100\n",
      "1816/1816 [==============================] - 1s 376us/sample - loss: 4.8381 - mean_absolute_error: 4.8381 - val_loss: 4.8735 - val_mean_absolute_error: 4.8735\n",
      "Epoch 12/100\n",
      "1816/1816 [==============================] - 1s 370us/sample - loss: 4.8137 - mean_absolute_error: 4.8137 - val_loss: 4.7427 - val_mean_absolute_error: 4.7427\n",
      "Epoch 13/100\n",
      "1816/1816 [==============================] - 1s 365us/sample - loss: 4.7315 - mean_absolute_error: 4.7315 - val_loss: 4.9413 - val_mean_absolute_error: 4.9413\n",
      "Epoch 14/100\n",
      "1816/1816 [==============================] - 1s 401us/sample - loss: 4.7745 - mean_absolute_error: 4.7745 - val_loss: 4.6517 - val_mean_absolute_error: 4.6517\n",
      "Epoch 15/100\n",
      "1816/1816 [==============================] - 1s 407us/sample - loss: 4.7202 - mean_absolute_error: 4.7202 - val_loss: 4.6703 - val_mean_absolute_error: 4.6703\n",
      "Epoch 16/100\n",
      "1816/1816 [==============================] - 1s 405us/sample - loss: 4.7170 - mean_absolute_error: 4.7170 - val_loss: 4.5899 - val_mean_absolute_error: 4.5899\n",
      "Epoch 17/100\n",
      "1816/1816 [==============================] - 1s 387us/sample - loss: 4.7117 - mean_absolute_error: 4.7117 - val_loss: 4.6118 - val_mean_absolute_error: 4.6118\n",
      "Epoch 18/100\n",
      "1816/1816 [==============================] - 1s 364us/sample - loss: 4.6812 - mean_absolute_error: 4.6812 - val_loss: 4.5899 - val_mean_absolute_error: 4.5899\n",
      "Epoch 19/100\n",
      "1816/1816 [==============================] - 1s 358us/sample - loss: 4.6776 - mean_absolute_error: 4.6776 - val_loss: 4.5432 - val_mean_absolute_error: 4.5432\n",
      "Epoch 20/100\n",
      "1816/1816 [==============================] - 1s 360us/sample - loss: 4.6997 - mean_absolute_error: 4.6997 - val_loss: 4.5976 - val_mean_absolute_error: 4.5976\n",
      "Epoch 21/100\n",
      "1816/1816 [==============================] - 1s 349us/sample - loss: 4.6611 - mean_absolute_error: 4.6611 - val_loss: 4.6040 - val_mean_absolute_error: 4.6040\n",
      "Epoch 22/100\n",
      "1816/1816 [==============================] - 1s 365us/sample - loss: 4.6510 - mean_absolute_error: 4.6510 - val_loss: 4.5620 - val_mean_absolute_error: 4.5620\n",
      "Epoch 23/100\n",
      "1816/1816 [==============================] - 1s 360us/sample - loss: 4.6986 - mean_absolute_error: 4.6986 - val_loss: 4.5209 - val_mean_absolute_error: 4.5209\n",
      "Epoch 24/100\n",
      "1816/1816 [==============================] - 1s 366us/sample - loss: 4.6656 - mean_absolute_error: 4.6656 - val_loss: 4.7587 - val_mean_absolute_error: 4.7587\n",
      "Epoch 25/100\n",
      "1816/1816 [==============================] - 1s 369us/sample - loss: 4.5781 - mean_absolute_error: 4.5781 - val_loss: 4.7913 - val_mean_absolute_error: 4.7913\n",
      "Epoch 26/100\n",
      "1816/1816 [==============================] - 1s 352us/sample - loss: 4.6281 - mean_absolute_error: 4.6281 - val_loss: 4.4513 - val_mean_absolute_error: 4.4513\n",
      "Epoch 27/100\n",
      "1816/1816 [==============================] - 1s 356us/sample - loss: 4.6313 - mean_absolute_error: 4.6313 - val_loss: 4.4536 - val_mean_absolute_error: 4.4536\n",
      "Epoch 28/100\n",
      "1816/1816 [==============================] - 1s 361us/sample - loss: 4.5767 - mean_absolute_error: 4.5767 - val_loss: 4.4705 - val_mean_absolute_error: 4.4705\n",
      "Epoch 29/100\n",
      "1816/1816 [==============================] - 1s 365us/sample - loss: 4.5688 - mean_absolute_error: 4.5688 - val_loss: 4.4319 - val_mean_absolute_error: 4.4319\n",
      "Epoch 30/100\n",
      "1816/1816 [==============================] - 1s 356us/sample - loss: 4.5534 - mean_absolute_error: 4.5534 - val_loss: 4.4379 - val_mean_absolute_error: 4.4379\n",
      "Epoch 31/100\n",
      "1816/1816 [==============================] - 1s 356us/sample - loss: 4.5438 - mean_absolute_error: 4.5438 - val_loss: 4.4796 - val_mean_absolute_error: 4.4796\n",
      "Epoch 32/100\n",
      "1816/1816 [==============================] - 1s 366us/sample - loss: 4.5761 - mean_absolute_error: 4.5761 - val_loss: 4.5677 - val_mean_absolute_error: 4.5677\n",
      "Epoch 33/100\n",
      "1816/1816 [==============================] - 1s 361us/sample - loss: 4.5467 - mean_absolute_error: 4.5467 - val_loss: 4.4254 - val_mean_absolute_error: 4.4254\n",
      "Epoch 34/100\n",
      "1816/1816 [==============================] - 1s 360us/sample - loss: 4.5929 - mean_absolute_error: 4.5929 - val_loss: 4.6547 - val_mean_absolute_error: 4.6547\n",
      "Epoch 35/100\n",
      "1816/1816 [==============================] - 1s 345us/sample - loss: 4.5452 - mean_absolute_error: 4.5452 - val_loss: 4.4198 - val_mean_absolute_error: 4.4198\n",
      "Epoch 36/100\n",
      "1816/1816 [==============================] - 1s 358us/sample - loss: 4.5488 - mean_absolute_error: 4.5488 - val_loss: 4.3935 - val_mean_absolute_error: 4.3935\n",
      "Epoch 37/100\n",
      "1816/1816 [==============================] - 1s 353us/sample - loss: 4.5627 - mean_absolute_error: 4.5627 - val_loss: 5.0742 - val_mean_absolute_error: 5.0742\n",
      "Epoch 38/100\n",
      "1816/1816 [==============================] - 1s 355us/sample - loss: 4.5563 - mean_absolute_error: 4.5563 - val_loss: 4.3977 - val_mean_absolute_error: 4.3977\n",
      "Epoch 39/100\n",
      "1816/1816 [==============================] - 1s 365us/sample - loss: 4.4955 - mean_absolute_error: 4.4955 - val_loss: 4.4254 - val_mean_absolute_error: 4.4254\n",
      "Epoch 40/100\n",
      "1816/1816 [==============================] - 1s 368us/sample - loss: 4.4958 - mean_absolute_error: 4.4958 - val_loss: 4.3778 - val_mean_absolute_error: 4.3778\n",
      "Epoch 41/100\n",
      "1816/1816 [==============================] - 1s 360us/sample - loss: 4.5498 - mean_absolute_error: 4.5498 - val_loss: 4.4289 - val_mean_absolute_error: 4.4289\n",
      "Epoch 42/100\n",
      "1816/1816 [==============================] - 1s 356us/sample - loss: 4.4952 - mean_absolute_error: 4.4952 - val_loss: 4.3762 - val_mean_absolute_error: 4.3762\n",
      "Epoch 43/100\n",
      "1816/1816 [==============================] - 1s 363us/sample - loss: 4.5252 - mean_absolute_error: 4.5252 - val_loss: 4.4028 - val_mean_absolute_error: 4.4028\n",
      "Epoch 44/100\n",
      "1816/1816 [==============================] - 1s 357us/sample - loss: 4.5534 - mean_absolute_error: 4.5534 - val_loss: 4.4511 - val_mean_absolute_error: 4.4511\n",
      "Epoch 45/100\n",
      "1816/1816 [==============================] - 1s 354us/sample - loss: 4.4993 - mean_absolute_error: 4.4993 - val_loss: 4.4182 - val_mean_absolute_error: 4.4182\n",
      "Epoch 46/100\n",
      "1816/1816 [==============================] - 1s 368us/sample - loss: 4.4933 - mean_absolute_error: 4.4933 - val_loss: 4.3401 - val_mean_absolute_error: 4.3401\n",
      "Epoch 47/100\n",
      "1816/1816 [==============================] - 1s 363us/sample - loss: 4.5459 - mean_absolute_error: 4.5459 - val_loss: 4.4416 - val_mean_absolute_error: 4.4416\n",
      "Epoch 48/100\n",
      "1816/1816 [==============================] - 1s 367us/sample - loss: 4.4708 - mean_absolute_error: 4.4708 - val_loss: 4.3925 - val_mean_absolute_error: 4.3925\n",
      "Epoch 49/100\n",
      "1816/1816 [==============================] - 1s 354us/sample - loss: 4.4545 - mean_absolute_error: 4.4545 - val_loss: 4.6016 - val_mean_absolute_error: 4.6016\n",
      "Epoch 50/100\n",
      "1816/1816 [==============================] - 1s 353us/sample - loss: 4.4545 - mean_absolute_error: 4.4545 - val_loss: 4.5109 - val_mean_absolute_error: 4.5109\n",
      "Epoch 51/100\n",
      "1816/1816 [==============================] - 1s 362us/sample - loss: 4.4831 - mean_absolute_error: 4.4831 - val_loss: 4.3579 - val_mean_absolute_error: 4.3579\n",
      "Epoch 52/100\n",
      "1816/1816 [==============================] - 1s 368us/sample - loss: 4.4290 - mean_absolute_error: 4.4290 - val_loss: 4.3138 - val_mean_absolute_error: 4.3138\n",
      "Epoch 53/100\n",
      "1816/1816 [==============================] - 1s 348us/sample - loss: 4.4683 - mean_absolute_error: 4.4683 - val_loss: 4.2896 - val_mean_absolute_error: 4.2896\n",
      "Epoch 54/100\n",
      "1816/1816 [==============================] - 1s 358us/sample - loss: 4.4581 - mean_absolute_error: 4.4581 - val_loss: 4.3463 - val_mean_absolute_error: 4.3463\n",
      "Epoch 55/100\n",
      "1816/1816 [==============================] - 1s 366us/sample - loss: 4.4159 - mean_absolute_error: 4.4159 - val_loss: 4.5847 - val_mean_absolute_error: 4.5847\n",
      "Epoch 56/100\n",
      "1816/1816 [==============================] - 1s 358us/sample - loss: 4.4302 - mean_absolute_error: 4.4302 - val_loss: 4.2926 - val_mean_absolute_error: 4.2926\n",
      "Epoch 57/100\n",
      "1816/1816 [==============================] - 1s 361us/sample - loss: 4.4429 - mean_absolute_error: 4.4429 - val_loss: 4.3342 - val_mean_absolute_error: 4.3342\n",
      "Epoch 58/100\n",
      "1816/1816 [==============================] - 1s 354us/sample - loss: 4.4119 - mean_absolute_error: 4.4119 - val_loss: 4.4337 - val_mean_absolute_error: 4.4337\n",
      "Epoch 59/100\n",
      "1816/1816 [==============================] - 1s 363us/sample - loss: 4.3965 - mean_absolute_error: 4.3965 - val_loss: 4.3276 - val_mean_absolute_error: 4.3276\n",
      "Epoch 60/100\n",
      "1816/1816 [==============================] - 1s 353us/sample - loss: 4.4255 - mean_absolute_error: 4.4255 - val_loss: 4.3646 - val_mean_absolute_error: 4.3646\n",
      "Epoch 61/100\n",
      "1816/1816 [==============================] - 1s 355us/sample - loss: 4.4717 - mean_absolute_error: 4.4717 - val_loss: 4.3205 - val_mean_absolute_error: 4.3205\n",
      "Epoch 62/100\n",
      "1816/1816 [==============================] - 1s 350us/sample - loss: 4.4612 - mean_absolute_error: 4.4612 - val_loss: 4.2610 - val_mean_absolute_error: 4.2611\n",
      "Epoch 63/100\n",
      "1816/1816 [==============================] - 1s 358us/sample - loss: 4.4036 - mean_absolute_error: 4.4036 - val_loss: 4.2909 - val_mean_absolute_error: 4.2909\n",
      "Epoch 64/100\n",
      "1816/1816 [==============================] - 1s 354us/sample - loss: 4.3902 - mean_absolute_error: 4.3902 - val_loss: 4.6048 - val_mean_absolute_error: 4.6048\n",
      "Epoch 65/100\n",
      "1816/1816 [==============================] - 1s 364us/sample - loss: 4.4114 - mean_absolute_error: 4.4114 - val_loss: 4.5140 - val_mean_absolute_error: 4.5140\n",
      "Epoch 66/100\n",
      "1816/1816 [==============================] - 1s 368us/sample - loss: 4.4132 - mean_absolute_error: 4.4132 - val_loss: 4.2707 - val_mean_absolute_error: 4.2707\n",
      "Epoch 67/100\n",
      "1816/1816 [==============================] - 1s 355us/sample - loss: 4.3884 - mean_absolute_error: 4.3884 - val_loss: 4.3653 - val_mean_absolute_error: 4.3653\n",
      "Epoch 68/100\n",
      "1816/1816 [==============================] - 1s 350us/sample - loss: 4.4189 - mean_absolute_error: 4.4189 - val_loss: 4.6195 - val_mean_absolute_error: 4.6195\n",
      "Epoch 69/100\n",
      "1816/1816 [==============================] - 1s 356us/sample - loss: 4.4431 - mean_absolute_error: 4.4431 - val_loss: 4.4267 - val_mean_absolute_error: 4.4267\n",
      "Epoch 70/100\n",
      "1816/1816 [==============================] - 1s 362us/sample - loss: 4.4142 - mean_absolute_error: 4.4142 - val_loss: 4.3403 - val_mean_absolute_error: 4.3403\n",
      "Epoch 71/100\n",
      "1816/1816 [==============================] - 1s 371us/sample - loss: 4.4046 - mean_absolute_error: 4.4046 - val_loss: 4.6569 - val_mean_absolute_error: 4.6569\n",
      "Epoch 72/100\n",
      "1816/1816 [==============================] - 1s 355us/sample - loss: 4.3681 - mean_absolute_error: 4.3681 - val_loss: 4.2934 - val_mean_absolute_error: 4.2934\n",
      "Epoch 73/100\n",
      "1816/1816 [==============================] - 1s 360us/sample - loss: 4.4088 - mean_absolute_error: 4.4089 - val_loss: 4.2906 - val_mean_absolute_error: 4.2906\n",
      "Epoch 74/100\n",
      "1816/1816 [==============================] - 1s 355us/sample - loss: 4.3978 - mean_absolute_error: 4.3978 - val_loss: 4.3381 - val_mean_absolute_error: 4.3381\n",
      "Epoch 75/100\n",
      "1816/1816 [==============================] - 1s 364us/sample - loss: 4.3952 - mean_absolute_error: 4.3952 - val_loss: 4.4775 - val_mean_absolute_error: 4.4775\n",
      "Epoch 76/100\n",
      "1816/1816 [==============================] - 1s 362us/sample - loss: 4.3945 - mean_absolute_error: 4.3945 - val_loss: 4.5795 - val_mean_absolute_error: 4.5795\n",
      "Epoch 77/100\n",
      "1816/1816 [==============================] - 1s 359us/sample - loss: 4.3737 - mean_absolute_error: 4.3737 - val_loss: 4.2563 - val_mean_absolute_error: 4.2563\n",
      "Epoch 78/100\n",
      "1816/1816 [==============================] - 1s 369us/sample - loss: 4.4219 - mean_absolute_error: 4.4219 - val_loss: 4.3286 - val_mean_absolute_error: 4.3286\n",
      "Epoch 79/100\n",
      "1816/1816 [==============================] - 1s 350us/sample - loss: 4.3565 - mean_absolute_error: 4.3565 - val_loss: 4.5575 - val_mean_absolute_error: 4.5575\n",
      "Epoch 80/100\n",
      "1816/1816 [==============================] - 1s 361us/sample - loss: 4.3611 - mean_absolute_error: 4.3611 - val_loss: 4.7752 - val_mean_absolute_error: 4.7752\n",
      "Epoch 81/100\n",
      "1816/1816 [==============================] - 1s 356us/sample - loss: 4.4388 - mean_absolute_error: 4.4388 - val_loss: 4.3985 - val_mean_absolute_error: 4.3985\n",
      "Epoch 82/100\n",
      "1816/1816 [==============================] - 1s 367us/sample - loss: 4.3434 - mean_absolute_error: 4.3434 - val_loss: 4.6405 - val_mean_absolute_error: 4.6405\n",
      "Epoch 83/100\n",
      "1816/1816 [==============================] - 1s 346us/sample - loss: 4.3672 - mean_absolute_error: 4.3672 - val_loss: 4.3364 - val_mean_absolute_error: 4.3364\n",
      "Epoch 84/100\n",
      "1816/1816 [==============================] - 1s 359us/sample - loss: 4.3320 - mean_absolute_error: 4.3320 - val_loss: 4.5566 - val_mean_absolute_error: 4.5566\n",
      "Epoch 85/100\n",
      "1816/1816 [==============================] - 1s 351us/sample - loss: 4.4620 - mean_absolute_error: 4.4620 - val_loss: 4.4228 - val_mean_absolute_error: 4.4228\n",
      "Epoch 86/100\n",
      "1816/1816 [==============================] - 1s 336us/sample - loss: 4.3996 - mean_absolute_error: 4.3996 - val_loss: 4.1960 - val_mean_absolute_error: 4.1960\n",
      "Epoch 87/100\n",
      "1816/1816 [==============================] - 1s 346us/sample - loss: 4.3436 - mean_absolute_error: 4.3436 - val_loss: 4.3033 - val_mean_absolute_error: 4.3033\n",
      "Epoch 88/100\n",
      "1816/1816 [==============================] - 1s 353us/sample - loss: 4.3462 - mean_absolute_error: 4.3462 - val_loss: 4.3843 - val_mean_absolute_error: 4.3843\n",
      "Epoch 89/100\n",
      "1816/1816 [==============================] - 1s 342us/sample - loss: 4.3363 - mean_absolute_error: 4.3363 - val_loss: 4.3670 - val_mean_absolute_error: 4.3670\n",
      "Epoch 90/100\n",
      "1816/1816 [==============================] - 1s 356us/sample - loss: 4.4429 - mean_absolute_error: 4.4429 - val_loss: 4.2894 - val_mean_absolute_error: 4.2894\n",
      "Epoch 91/100\n",
      "1816/1816 [==============================] - 1s 351us/sample - loss: 4.3473 - mean_absolute_error: 4.3473 - val_loss: 4.2972 - val_mean_absolute_error: 4.2972\n",
      "Epoch 92/100\n",
      "1816/1816 [==============================] - 1s 348us/sample - loss: 4.3358 - mean_absolute_error: 4.3358 - val_loss: 4.5884 - val_mean_absolute_error: 4.5884\n",
      "Epoch 93/100\n",
      "1816/1816 [==============================] - 1s 335us/sample - loss: 4.3297 - mean_absolute_error: 4.3297 - val_loss: 4.5408 - val_mean_absolute_error: 4.5408\n",
      "Epoch 94/100\n",
      "1816/1816 [==============================] - 1s 343us/sample - loss: 4.3993 - mean_absolute_error: 4.3993 - val_loss: 4.2017 - val_mean_absolute_error: 4.2017\n",
      "Epoch 95/100\n",
      "1816/1816 [==============================] - 1s 341us/sample - loss: 4.3346 - mean_absolute_error: 4.3346 - val_loss: 4.4279 - val_mean_absolute_error: 4.4279\n",
      "Epoch 96/100\n",
      "1816/1816 [==============================] - 1s 353us/sample - loss: 4.4134 - mean_absolute_error: 4.4134 - val_loss: 4.2880 - val_mean_absolute_error: 4.2880\n",
      "Epoch 97/100\n",
      "1816/1816 [==============================] - 1s 358us/sample - loss: 4.3553 - mean_absolute_error: 4.3553 - val_loss: 4.1985 - val_mean_absolute_error: 4.1985\n",
      "Epoch 98/100\n",
      "1816/1816 [==============================] - 1s 348us/sample - loss: 4.3251 - mean_absolute_error: 4.3251 - val_loss: 4.2467 - val_mean_absolute_error: 4.2467\n",
      "Epoch 99/100\n",
      "1816/1816 [==============================] - 1s 352us/sample - loss: 4.3826 - mean_absolute_error: 4.3826 - val_loss: 4.2343 - val_mean_absolute_error: 4.2343\n",
      "Epoch 100/100\n",
      "1816/1816 [==============================] - 1s 336us/sample - loss: 4.3257 - mean_absolute_error: 4.3257 - val_loss: 4.4126 - val_mean_absolute_error: 4.4126\n"
     ]
    }
   ],
   "source": [
    "ANN_model = Sequential()\n",
    "\n",
    "# The Input Layer :\n",
    "ANN_model.add(Dense(128, kernel_initializer='normal',input_dim = X_train.shape[1], activation='relu'))\n",
    "\n",
    "# The Hidden Layers :\n",
    "ANN_model.add(Dense(256, kernel_initializer='normal',activation='relu'))\n",
    "ANN_model.add(Dense(256, kernel_initializer='normal',activation='relu'))\n",
    "ANN_model.add(Dense(256, kernel_initializer='normal',activation='relu'))\n",
    "\n",
    "# The Output Layer :\n",
    "ANN_model.add(Dense(1, kernel_initializer='normal',activation='linear'))\n",
    "\n",
    "# Compile the network :\n",
    "ANN_model.compile(loss='mean_absolute_error', optimizer='adam', metrics=['mean_absolute_error'])\n",
    "ANN_model.summary()\n",
    "\n",
    "# Fitting the ANN to the Training set\n",
    "model_history=ANN_model.fit(X_train, y_train, validation_split=0.33, batch_size=10, nb_epoch=100)"
   ]
  },
  {
   "cell_type": "code",
   "execution_count": 14,
   "metadata": {},
   "outputs": [],
   "source": [
    "prediction=ANN_model.predict(X_test)"
   ]
  },
  {
   "cell_type": "code",
   "execution_count": 17,
   "metadata": {},
   "outputs": [
    {
     "data": {
      "text/plain": [
       "array([[ 9.54086 ],\n",
       "       [ 9.12548 ],\n",
       "       [ 7.595663],\n",
       "       ...,\n",
       "       [ 7.75515 ],\n",
       "       [10.151247],\n",
       "       [ 6.865011]], dtype=float32)"
      ]
     },
     "execution_count": 17,
     "metadata": {},
     "output_type": "execute_result"
    }
   ],
   "source": [
    "prediction"
   ]
  },
  {
   "cell_type": "code",
   "execution_count": 18,
   "metadata": {},
   "outputs": [
    {
     "data": {
      "text/plain": [
       "3317     8.130769\n",
       "3823     8.266667\n",
       "562     10.600000\n",
       "3687     5.100000\n",
       "3344     7.615385\n",
       "          ...    \n",
       "3094     9.926316\n",
       "3087     5.725000\n",
       "396      9.731579\n",
       "2875     5.058333\n",
       "1100     7.628571\n",
       "Name: PM 2.5, Length: 1163, dtype: float64"
      ]
     },
     "execution_count": 18,
     "metadata": {},
     "output_type": "execute_result"
    }
   ],
   "source": [
    "y_test"
   ]
  },
  {
   "cell_type": "code",
   "execution_count": 19,
   "metadata": {},
   "outputs": [
    {
     "name": "stderr",
     "output_type": "stream",
     "text": [
      "c:\\users\\tigju\\anaconda3\\envs\\datascience\\lib\\site-packages\\seaborn\\distributions.py:2551: FutureWarning: `distplot` is a deprecated function and will be removed in a future version. Please adapt your code to use either `displot` (a figure-level function with similar flexibility) or `histplot` (an axes-level function for histograms).\n",
      "  warnings.warn(msg, FutureWarning)\n"
     ]
    },
    {
     "data": {
      "text/plain": [
       "<matplotlib.axes._subplots.AxesSubplot at 0x1a323b45708>"
      ]
     },
     "execution_count": 19,
     "metadata": {},
     "output_type": "execute_result"
    },
    {
     "data": {
      "image/png": "[encoded data removed]",
      "text/plain": [
       "<Figure size 432x288 with 1 Axes>"
      ]
     },
     "metadata": {
      "needs_background": "light"
     },
     "output_type": "display_data"
    }
   ],
   "source": [
    "sns.distplot(y_test.values.reshape(-1,1)-prediction)"
   ]
  },
  {
   "cell_type": "code",
   "execution_count": 20,
   "metadata": {},
   "outputs": [
    {
     "data": {
      "text/plain": [
       "<matplotlib.collections.PathCollection at 0x1a365daf088>"
      ]
     },
     "execution_count": 20,
     "metadata": {},
     "output_type": "execute_result"
    },
    {
     "data": {
      "image/png": "[encoded data removed]",
      "text/plain": [
       "<Figure size 432x288 with 1 Axes>"
      ]
     },
     "metadata": {
      "needs_background": "light"
     },
     "output_type": "display_data"
    }
   ],
   "source": [
    "plt.scatter(y_test, prediction)"
   ]
  },
  {
   "cell_type": "code",
   "execution_count": 21,
   "metadata": {},
   "outputs": [
    {
     "name": "stdout",
     "output_type": "stream",
     "text": [
      "MAE: 4.341517217826541\n",
      "MSE: 45.11263273859026\n",
      "RMSE: 6.716593834570485\n"
     ]
    }
   ],
   "source": [
    "from sklearn import metrics\n",
    "print('MAE:', metrics.mean_absolute_error(y_test, prediction))\n",
    "print('MSE:', metrics.mean_squared_error(y_test, prediction))\n",
    "print('RMSE:', np.sqrt(metrics.mean_squared_error(y_test, prediction)))"
   ]
  },
  {
   "cell_type": "code",
   "execution_count": null,
   "metadata": {},
   "outputs": [],
   "source": []
  }
 ],
 "metadata": {
  "kernelspec": {
   "display_name": "Python 3",
   "language": "python",
   "name": "python3"
  },
  "language_info": {
   "codemirror_mode": {
    "name": "ipython",
    "version": 3
   },
   "file_extension": ".py",
   "mimetype": "text/x-python",
   "name": "python",
   "nbconvert_exporter": "python",
   "pygments_lexer": "ipython3",
   "version": "3.7.6"
  }
 },
 "nbformat": 4,
 "nbformat_minor": 4
}
